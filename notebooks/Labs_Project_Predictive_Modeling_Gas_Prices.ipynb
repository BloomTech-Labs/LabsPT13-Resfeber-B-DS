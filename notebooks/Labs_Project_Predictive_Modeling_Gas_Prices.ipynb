{
  "nbformat": 4,
  "nbformat_minor": 0,
  "metadata": {
    "colab": {
      "name": "Labs Project Predictive Modeling - Gas Prices.ipynb",
      "provenance": []
    },
    "kernelspec": {
      "name": "python3",
      "display_name": "Python 3"
    }
  },
  "cells": [
    {
      "cell_type": "markdown",
      "metadata": {
        "id": "Ix6nYM-yVcp4"
      },
      "source": [
        "# Load data"
      ]
    },
    {
      "cell_type": "code",
      "metadata": {
        "id": "owWfoE8PNy5M"
      },
      "source": [
        "#first predictive model just based on travel dates, using linear regression \n",
        "data_url = 'https://www.eia.gov/dnav/pet/xls/PET_PRI_GND_DCUS_NUS_W.xls'"
      ],
      "execution_count": null,
      "outputs": []
    },
    {
      "cell_type": "code",
      "metadata": {
        "id": "UMcYMbdJRI2n"
      },
      "source": [
        "import pandas as pd\n",
        "df = pd.read_excel(data_url, sheet_name=1, header=2)"
      ],
      "execution_count": null,
      "outputs": []
    },
    {
      "cell_type": "markdown",
      "metadata": {
        "id": "cnUTU5DNVhfz"
      },
      "source": [
        "# Describe data set"
      ]
    },
    {
      "cell_type": "code",
      "metadata": {
        "id": "NBQJucFRSgt6",
        "outputId": "d09629d4-434e-4526-f905-7110a5cfd9c4",
        "colab": {
          "base_uri": "https://localhost:8080/"
        }
      },
      "source": [
        "df.shape"
      ],
      "execution_count": null,
      "outputs": [
        {
          "output_type": "execute_result",
          "data": {
            "text/plain": [
              "(1578, 16)"
            ]
          },
          "metadata": {
            "tags": []
          },
          "execution_count": 44
        }
      ]
    },
    {
      "cell_type": "code",
      "metadata": {
        "id": "xN57IS7XRZEn",
        "outputId": "91fae7fc-d1b0-4d8e-fe1b-048c4610ce74",
        "colab": {
          "base_uri": "https://localhost:8080/"
        }
      },
      "source": [
        "df.isna().sum()"
      ],
      "execution_count": null,
      "outputs": [
        {
          "output_type": "execute_result",
          "data": {
            "text/plain": [
              "Date                                                                                          0\n",
              "Weekly U.S. All Grades All Formulations Retail Gasoline Prices  (Dollars per Gallon)        137\n",
              "Weekly U.S. All Grades Conventional Retail Gasoline Prices  (Dollars per Gallon)            223\n",
              "Weekly U.S. All Grades Reformulated Retail Gasoline Prices  (Dollars per Gallon)            223\n",
              "Weekly U.S. Regular All Formulations Retail Gasoline Prices  (Dollars per Gallon)             6\n",
              "Weekly U.S. Regular Conventional Retail Gasoline Prices  (Dollars per Gallon)                 6\n",
              "Weekly U.S. Regular Reformulated Retail Gasoline Prices  (Dollars per Gallon)               223\n",
              "Weekly U.S. Midgrade All Formulations Retail Gasoline Prices  (Dollars per Gallon)          223\n",
              "Weekly U.S. Midgrade Conventional Retail Gasoline Prices  (Dollars per Gallon)              223\n",
              "Weekly U.S. Midgrade Reformulated Retail Gasoline Prices  (Dollars per Gallon)              223\n",
              "Weekly U.S. Premium All Formulations Retail Gasoline Prices  (Dollars per Gallon)           223\n",
              "Weekly U.S. Premium Conventional Retail Gasoline Prices  (Dollars per Gallon)               223\n",
              "Weekly U.S. Premium Reformulated Retail Gasoline Prices  (Dollars per Gallon)               223\n",
              "Weekly U.S. No 2 Diesel Retail Prices  (Dollars per Gallon)                                 187\n",
              "Weekly U.S. No 2 Diesel Ultra Low Sulfur (0-15 ppm) Retail Prices  (Dollars per Gallon)     859\n",
              "Weekly U.S. No 2 Diesel Low Sulfur (15-500 ppm) Retail Prices  (Dollars per Gallon)        1482\n",
              "dtype: int64"
            ]
          },
          "metadata": {
            "tags": []
          },
          "execution_count": 45
        }
      ]
    },
    {
      "cell_type": "code",
      "metadata": {
        "id": "xqv26pCeTWnY"
      },
      "source": [
        "col_name = 'Weekly U.S. All Grades All Formulations Retail Gasoline Prices  (Dollars per Gallon)'"
      ],
      "execution_count": null,
      "outputs": []
    },
    {
      "cell_type": "code",
      "metadata": {
        "id": "X8stsassTqyV",
        "outputId": "e3755b6f-5e1c-416f-d01b-78feb09f6754",
        "colab": {
          "base_uri": "https://localhost:8080/",
          "height": 283
        }
      },
      "source": [
        "df[col_name].plot()"
      ],
      "execution_count": null,
      "outputs": [
        {
          "output_type": "execute_result",
          "data": {
            "text/plain": [
              "<matplotlib.axes._subplots.AxesSubplot at 0x7f62d232bac8>"
            ]
          },
          "metadata": {
            "tags": []
          },
          "execution_count": 47
        },
        {
          "output_type": "display_data",
          "data": {
            "image/png": "[encoded data removed]",
            "text/plain": [
              "<Figure size 432x288 with 1 Axes>"
            ]
          },
          "metadata": {
            "tags": [],
            "needs_background": "light"
          }
        }
      ]
    },
    {
      "cell_type": "markdown",
      "metadata": {
        "id": "8bE0nAl4aOE7"
      },
      "source": [
        "# Data pre-processing"
      ]
    },
    {
      "cell_type": "markdown",
      "metadata": {
        "id": "Cs3haANzaVuX"
      },
      "source": [
        "Drop NaNs"
      ]
    },
    {
      "cell_type": "code",
      "metadata": {
        "id": "aA8nCs7waRVZ",
        "outputId": "189fed4a-29f7-4405-8b9a-de04070b2be4",
        "colab": {
          "base_uri": "https://localhost:8080/"
        }
      },
      "source": [
        "small_df = df[['Date', col_name]]\n",
        "small_df.isna().sum()"
      ],
      "execution_count": null,
      "outputs": [
        {
          "output_type": "execute_result",
          "data": {
            "text/plain": [
              "Date                                                                                      0\n",
              "Weekly U.S. All Grades All Formulations Retail Gasoline Prices  (Dollars per Gallon)    137\n",
              "dtype: int64"
            ]
          },
          "metadata": {
            "tags": []
          },
          "execution_count": 48
        }
      ]
    },
    {
      "cell_type": "code",
      "metadata": {
        "id": "tF4PQQlZaYbh",
        "outputId": "cc9a78ae-7ae6-4da4-84b8-d8980cfdd6b1",
        "colab": {
          "base_uri": "https://localhost:8080/"
        }
      },
      "source": [
        "small_df = small_df.dropna()\n",
        "small_df.isna().sum()"
      ],
      "execution_count": null,
      "outputs": [
        {
          "output_type": "execute_result",
          "data": {
            "text/plain": [
              "Date                                                                                    0\n",
              "Weekly U.S. All Grades All Formulations Retail Gasoline Prices  (Dollars per Gallon)    0\n",
              "dtype: int64"
            ]
          },
          "metadata": {
            "tags": []
          },
          "execution_count": 49
        }
      ]
    },
    {
      "cell_type": "markdown",
      "metadata": {
        "id": "AnFOF-f8abzU"
      },
      "source": [
        "Feature engineering"
      ]
    },
    {
      "cell_type": "code",
      "metadata": {
        "id": "oNExbnqdabUH"
      },
      "source": [
        "small_df['year'] = small_df['Date'].dt.year\n",
        "small_df['week'] = small_df['Date'].dt.isocalendar().week\n",
        "small_df['prev_price'] = small_df[col_name].shift(periods=1)"
      ],
      "execution_count": null,
      "outputs": []
    },
    {
      "cell_type": "markdown",
      "metadata": {
        "id": "FO1K-_fFfxDq"
      },
      "source": [
        "Drop years before 1995"
      ]
    },
    {
      "cell_type": "code",
      "metadata": {
        "id": "L18JFvy1fwsp"
      },
      "source": [
        "small_df = small_df[small_df['year'] > 1995]"
      ],
      "execution_count": null,
      "outputs": []
    },
    {
      "cell_type": "markdown",
      "metadata": {
        "id": "VD4LIByDVo6M"
      },
      "source": [
        "# First model: use dates to predict price"
      ]
    },
    {
      "cell_type": "code",
      "metadata": {
        "id": "ubSxFe9pVvt3"
      },
      "source": [
        "X_train = small_df[small_df['year'] < 2020][['year', 'week', 'prev_price']]\n",
        "y_train = small_df[small_df['year'] < 2020][col_name]\n",
        "X_test = small_df[small_df['year'] >= 2020][['year', 'week', 'prev_price']]\n",
        "y_test = small_df[small_df['year'] >= 2020][col_name]"
      ],
      "execution_count": null,
      "outputs": []
    },
    {
      "cell_type": "code",
      "metadata": {
        "id": "1j-Dgfh-b-YD",
        "outputId": "b33198d5-8176-421e-a9b4-b203120ea282",
        "colab": {
          "base_uri": "https://localhost:8080/"
        }
      },
      "source": [
        "from sklearn.linear_model import LinearRegression\n",
        "from sklearn import svm\n",
        "from sklearn.neighbors import KNeighborsRegressor\n",
        "from sklearn.neural_network import MLPRegressor\n",
        "from sklearn.ensemble import RandomForestRegressor\n",
        "from sklearn.model_selection import TimeSeriesSplit\n",
        "from sklearn.model_selection import cross_validate\n",
        "from sklearn.metrics import explained_variance_score\n",
        "\n",
        "all_models = [\n",
        "    LinearRegression(),\n",
        "    svm.SVR(),\n",
        "    KNeighborsRegressor(n_neighbors=10),\n",
        "    MLPRegressor(max_iter=500),\n",
        "    RandomForestRegressor(),\n",
        "  ]\n",
        "\n",
        "for md in all_models:\n",
        "  cv_results = cross_validate(\n",
        "      md, X_train, y_train, cv=4,\n",
        "      scoring='explained_variance', return_estimator=True\n",
        "    )\n",
        "  print(cv_results['test_score'])\n",
        "\n",
        "  best_index = cv_results['test_score'].argmax()\n",
        "  best = cv_results['estimator'][best_index]\n",
        "  print(explained_variance_score(y_test, best.predict(X_test)))\n",
        "  print()"
      ],
      "execution_count": null,
      "outputs": [
        {
          "output_type": "stream",
          "text": [
            "[0.98395322 0.99139447 0.9882618  0.98957865]\n",
            "0.9418982086494484\n",
            "\n",
            "[ 0.01164001  0.02196836  0.0135039  -0.00568383]\n",
            "-0.019439242929050415\n",
            "\n",
            "[0.09310307 0.65260942 0.33449026 0.05426247]\n",
            "-1.6457382849113076\n",
            "\n",
            "[0.98207668 0.99092233 0.98764077 0.98799143]\n",
            "0.9432161029247874\n",
            "\n",
            "[0.882849   0.98434502 0.97128365 0.98242933]\n",
            "0.9494663686659384\n",
            "\n"
          ],
          "name": "stdout"
        }
      ]
    },
    {
      "cell_type": "markdown",
      "metadata": {
        "id": "GSI4kcR8qkXy"
      },
      "source": [
        "1. added last week's price as new column\n",
        "2. compared between many different model\n",
        "3. used CV to get many versions of the same model - why is 4 folds much better than 5 folds (cv=4)"
      ]
    },
    {
      "cell_type": "markdown",
      "metadata": {
        "id": "rL-_rUahpvrV"
      },
      "source": [
        "To Do: \n",
        "1. tweak parameters of linear regression, MLP, random forest (try to get better scores)\n",
        "2. is explained variance the right metric to use? alternatives?\n",
        "3. add a new column (price from two weeks ago)\n",
        "4. try on east coast / west coast data"
      ]
    },
    {
      "cell_type": "code",
      "metadata": {
        "id": "G_BkiIqIbYzT"
      },
      "source": [
        ""
      ],
      "execution_count": null,
      "outputs": []
    }
  ]
}