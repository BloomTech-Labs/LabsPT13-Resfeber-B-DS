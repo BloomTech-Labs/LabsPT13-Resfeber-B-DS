{
 "metadata": {
  "language_info": {
   "codemirror_mode": {
    "name": "ipython",
    "version": 3
   },
   "file_extension": ".py",
   "mimetype": "text/x-python",
   "name": "python",
   "nbconvert_exporter": "python",
   "pygments_lexer": "ipython3",
   "version": "3.7.0-final"
  },
  "orig_nbformat": 2,
  "kernelspec": {
   "name": "u4-s1-nlp",
   "display_name": "U4-S1-NLP (Python3)"
  }
 },
 "nbformat": 4,
 "nbformat_minor": 2,
 "cells": [
  {
   "cell_type": "code",
   "execution_count": 1,
   "metadata": {},
   "outputs": [],
   "source": [
    "import pandas as pd \n",
    "import numpy as np "
   ]
  },
  {
   "cell_type": "code",
   "execution_count": 2,
   "metadata": {},
   "outputs": [],
   "source": [
    "df = pd.read_csv('AB_US_2020.csv')"
   ]
  },
  {
   "cell_type": "code",
   "execution_count": 3,
   "metadata": {},
   "outputs": [
    {
     "output_type": "stream",
     "name": "stdout",
     "text": [
      "(226030, 17)\n"
     ]
    },
    {
     "output_type": "execute_result",
     "data": {
      "text/plain": [
       "       id                                               name  host_id  \\\n",
       "0   38585    Charming Victorian home - twin beds + breakfast   165529   \n",
       "1   80905                                   French Chic Loft   427027   \n",
       "2  108061  Walk to stores/parks/downtown. Fenced yard/Pet...   320564   \n",
       "3  155305                 Cottage! BonPaul + Sharky's Hostel   746673   \n",
       "4  160594                                Historic Grove Park   769252   \n",
       "\n",
       "   host_name neighbourhood_group neighbourhood  latitude  longitude  \\\n",
       "0    Evelyne                 NaN         28804  35.65146  -82.62792   \n",
       "1    Celeste                 NaN         28801  35.59779  -82.55540   \n",
       "2       Lisa                 NaN         28801  35.60670  -82.55563   \n",
       "3    BonPaul                 NaN         28806  35.57864  -82.59578   \n",
       "4  Elizabeth                 NaN         28801  35.61442  -82.54127   \n",
       "\n",
       "         room_type  price  minimum_nights  number_of_reviews last_review  \\\n",
       "0     Private room     60               1                138    16/02/20   \n",
       "1  Entire home/apt    470               1                114    07/09/20   \n",
       "2  Entire home/apt     75              30                 89    30/11/19   \n",
       "3  Entire home/apt     90               1                267    22/09/20   \n",
       "4     Private room    125              30                 58    19/10/15   \n",
       "\n",
       "   reviews_per_month  calculated_host_listings_count  availability_365  \\\n",
       "0               1.14                               1                 0   \n",
       "1               1.03                              11               288   \n",
       "2               0.81                               2               298   \n",
       "3               2.39                               5                 0   \n",
       "4               0.52                               1                 0   \n",
       "\n",
       "        city  \n",
       "0  Asheville  \n",
       "1  Asheville  \n",
       "2  Asheville  \n",
       "3  Asheville  \n",
       "4  Asheville  "
      ],
      "text/html": "<div>\n<style scoped>\n    .dataframe tbody tr th:only-of-type {\n        vertical-align: middle;\n    }\n\n    .dataframe tbody tr th {\n        vertical-align: top;\n    }\n\n    .dataframe thead th {\n        text-align: right;\n    }\n</style>\n<table border=\"1\" class=\"dataframe\">\n  <thead>\n    <tr style=\"text-align: right;\">\n      <th></th>\n      <th>id</th>\n      <th>name</th>\n      <th>host_id</th>\n      <th>host_name</th>\n      <th>neighbourhood_group</th>\n      <th>neighbourhood</th>\n      <th>latitude</th>\n      <th>longitude</th>\n      <th>room_type</th>\n      <th>price</th>\n      <th>minimum_nights</th>\n      <th>number_of_reviews</th>\n      <th>last_review</th>\n      <th>reviews_per_month</th>\n      <th>calculated_host_listings_count</th>\n      <th>availability_365</th>\n      <th>city</th>\n    </tr>\n  </thead>\n  <tbody>\n    <tr>\n      <th>0</th>\n      <td>38585</td>\n      <td>Charming Victorian home - twin beds + breakfast</td>\n      <td>165529</td>\n      <td>Evelyne</td>\n      <td>NaN</td>\n      <td>28804</td>\n      <td>35.65146</td>\n      <td>-82.62792</td>\n      <td>Private room</td>\n      <td>60</td>\n      <td>1</td>\n      <td>138</td>\n      <td>16/02/20</td>\n      <td>1.14</td>\n      <td>1</td>\n      <td>0</td>\n      <td>Asheville</td>\n    </tr>\n    <tr>\n      <th>1</th>\n      <td>80905</td>\n      <td>French Chic Loft</td>\n      <td>427027</td>\n      <td>Celeste</td>\n      <td>NaN</td>\n      <td>28801</td>\n      <td>35.59779</td>\n      <td>-82.55540</td>\n      <td>Entire home/apt</td>\n      <td>470</td>\n      <td>1</td>\n      <td>114</td>\n      <td>07/09/20</td>\n      <td>1.03</td>\n      <td>11</td>\n      <td>288</td>\n      <td>Asheville</td>\n    </tr>\n    <tr>\n      <th>2</th>\n      <td>108061</td>\n      <td>Walk to stores/parks/downtown. Fenced yard/Pet...</td>\n      <td>320564</td>\n      <td>Lisa</td>\n      <td>NaN</td>\n      <td>28801</td>\n      <td>35.60670</td>\n      <td>-82.55563</td>\n      <td>Entire home/apt</td>\n      <td>75</td>\n      <td>30</td>\n      <td>89</td>\n      <td>30/11/19</td>\n      <td>0.81</td>\n      <td>2</td>\n      <td>298</td>\n      <td>Asheville</td>\n    </tr>\n    <tr>\n      <th>3</th>\n      <td>155305</td>\n      <td>Cottage! BonPaul + Sharky's Hostel</td>\n      <td>746673</td>\n      <td>BonPaul</td>\n      <td>NaN</td>\n      <td>28806</td>\n      <td>35.57864</td>\n      <td>-82.59578</td>\n      <td>Entire home/apt</td>\n      <td>90</td>\n      <td>1</td>\n      <td>267</td>\n      <td>22/09/20</td>\n      <td>2.39</td>\n      <td>5</td>\n      <td>0</td>\n      <td>Asheville</td>\n    </tr>\n    <tr>\n      <th>4</th>\n      <td>160594</td>\n      <td>Historic Grove Park</td>\n      <td>769252</td>\n      <td>Elizabeth</td>\n      <td>NaN</td>\n      <td>28801</td>\n      <td>35.61442</td>\n      <td>-82.54127</td>\n      <td>Private room</td>\n      <td>125</td>\n      <td>30</td>\n      <td>58</td>\n      <td>19/10/15</td>\n      <td>0.52</td>\n      <td>1</td>\n      <td>0</td>\n      <td>Asheville</td>\n    </tr>\n  </tbody>\n</table>\n</div>"
     },
     "metadata": {},
     "execution_count": 3
    }
   ],
   "source": [
    "print(df.shape)\n",
    "df.head()"
   ]
  },
  {
   "cell_type": "code",
   "execution_count": 4,
   "metadata": {},
   "outputs": [
    {
     "output_type": "execute_result",
     "data": {
      "text/plain": [
       "id                                  int64\n",
       "name                               object\n",
       "host_id                             int64\n",
       "host_name                          object\n",
       "neighbourhood_group                object\n",
       "neighbourhood                      object\n",
       "latitude                          float64\n",
       "longitude                         float64\n",
       "room_type                          object\n",
       "price                               int64\n",
       "minimum_nights                      int64\n",
       "number_of_reviews                   int64\n",
       "last_review                        object\n",
       "reviews_per_month                 float64\n",
       "calculated_host_listings_count      int64\n",
       "availability_365                    int64\n",
       "city                               object\n",
       "dtype: object"
      ]
     },
     "metadata": {},
     "execution_count": 4
    }
   ],
   "source": [
    "# df.dtypes"
   ]
  },
  {
   "cell_type": "code",
   "execution_count": 5,
   "metadata": {},
   "outputs": [
    {
     "output_type": "execute_result",
     "data": {
      "text/plain": [
       "                       name host_name neighbourhood_group  \\\n",
       "count                226002    225997              110185   \n",
       "unique               218443     30533                  34   \n",
       "top     Home away from home   Michael           Manhattan   \n",
       "freq                     75      2025               20236   \n",
       "\n",
       "               neighbourhood        room_type last_review           city  \n",
       "count                 226030           226030      177428         226030  \n",
       "unique                  1450                4        2377             28  \n",
       "top     Unincorporated Areas  Entire home/apt    15/03/20  New York City  \n",
       "freq                    8020           154173        2915          45756  "
      ],
      "text/html": "<div>\n<style scoped>\n    .dataframe tbody tr th:only-of-type {\n        vertical-align: middle;\n    }\n\n    .dataframe tbody tr th {\n        vertical-align: top;\n    }\n\n    .dataframe thead th {\n        text-align: right;\n    }\n</style>\n<table border=\"1\" class=\"dataframe\">\n  <thead>\n    <tr style=\"text-align: right;\">\n      <th></th>\n      <th>name</th>\n      <th>host_name</th>\n      <th>neighbourhood_group</th>\n      <th>neighbourhood</th>\n      <th>room_type</th>\n      <th>last_review</th>\n      <th>city</th>\n    </tr>\n  </thead>\n  <tbody>\n    <tr>\n      <th>count</th>\n      <td>226002</td>\n      <td>225997</td>\n      <td>110185</td>\n      <td>226030</td>\n      <td>226030</td>\n      <td>177428</td>\n      <td>226030</td>\n    </tr>\n    <tr>\n      <th>unique</th>\n      <td>218443</td>\n      <td>30533</td>\n      <td>34</td>\n      <td>1450</td>\n      <td>4</td>\n      <td>2377</td>\n      <td>28</td>\n    </tr>\n    <tr>\n      <th>top</th>\n      <td>Home away from home</td>\n      <td>Michael</td>\n      <td>Manhattan</td>\n      <td>Unincorporated Areas</td>\n      <td>Entire home/apt</td>\n      <td>15/03/20</td>\n      <td>New York City</td>\n    </tr>\n    <tr>\n      <th>freq</th>\n      <td>75</td>\n      <td>2025</td>\n      <td>20236</td>\n      <td>8020</td>\n      <td>154173</td>\n      <td>2915</td>\n      <td>45756</td>\n    </tr>\n  </tbody>\n</table>\n</div>"
     },
     "metadata": {},
     "execution_count": 5
    }
   ],
   "source": [
    "# df.describe(exclude='number')"
   ]
  },
  {
   "cell_type": "code",
   "execution_count": 6,
   "metadata": {},
   "outputs": [
    {
     "output_type": "execute_result",
     "data": {
      "text/plain": [
       "                 id       host_id       latitude      longitude  \\\n",
       "count  2.260300e+05  2.260300e+05  226030.000000  226030.000000   \n",
       "mean   2.547176e+07  9.352385e+07      35.662829    -103.220662   \n",
       "std    1.317814e+07  9.827422e+07       6.849855      26.222091   \n",
       "min    1.090000e+02  2.300000e+01      18.920990    -159.714900   \n",
       "25%    1.515890e+07  1.399275e+07      32.761783    -118.598115   \n",
       "50%    2.590916e+07  5.138266e+07      37.261125     -97.817200   \n",
       "75%    3.772624e+07  1.497179e+08      40.724038     -76.919322   \n",
       "max    4.556085e+07  3.679176e+08      47.734620     -70.995950   \n",
       "\n",
       "               price  minimum_nights  number_of_reviews  reviews_per_month  \\\n",
       "count  226030.000000    2.260300e+05      226030.000000       177428.00000   \n",
       "mean      219.716529    4.525490e+02          34.506530            1.43145   \n",
       "std       570.353609    2.103376e+05          63.602914            1.68321   \n",
       "min         0.000000    1.000000e+00           0.000000            0.01000   \n",
       "25%        75.000000    1.000000e+00           1.000000            0.23000   \n",
       "50%       121.000000    2.000000e+00           8.000000            0.81000   \n",
       "75%       201.000000    7.000000e+00          39.000000            2.06000   \n",
       "max     24999.000000    1.000000e+08         966.000000           44.06000   \n",
       "\n",
       "       calculated_host_listings_count  availability_365  \n",
       "count                   226030.000000     226030.000000  \n",
       "mean                        16.698562        159.314856  \n",
       "std                         51.068966        140.179628  \n",
       "min                          1.000000          0.000000  \n",
       "25%                          1.000000          0.000000  \n",
       "50%                          2.000000        140.000000  \n",
       "75%                          6.000000        311.000000  \n",
       "max                        593.000000        365.000000  "
      ],
      "text/html": "<div>\n<style scoped>\n    .dataframe tbody tr th:only-of-type {\n        vertical-align: middle;\n    }\n\n    .dataframe tbody tr th {\n        vertical-align: top;\n    }\n\n    .dataframe thead th {\n        text-align: right;\n    }\n</style>\n<table border=\"1\" class=\"dataframe\">\n  <thead>\n    <tr style=\"text-align: right;\">\n      <th></th>\n      <th>id</th>\n      <th>host_id</th>\n      <th>latitude</th>\n      <th>longitude</th>\n      <th>price</th>\n      <th>minimum_nights</th>\n      <th>number_of_reviews</th>\n      <th>reviews_per_month</th>\n      <th>calculated_host_listings_count</th>\n      <th>availability_365</th>\n    </tr>\n  </thead>\n  <tbody>\n    <tr>\n      <th>count</th>\n      <td>2.260300e+05</td>\n      <td>2.260300e+05</td>\n      <td>226030.000000</td>\n      <td>226030.000000</td>\n      <td>226030.000000</td>\n      <td>2.260300e+05</td>\n      <td>226030.000000</td>\n      <td>177428.00000</td>\n      <td>226030.000000</td>\n      <td>226030.000000</td>\n    </tr>\n    <tr>\n      <th>mean</th>\n      <td>2.547176e+07</td>\n      <td>9.352385e+07</td>\n      <td>35.662829</td>\n      <td>-103.220662</td>\n      <td>219.716529</td>\n      <td>4.525490e+02</td>\n      <td>34.506530</td>\n      <td>1.43145</td>\n      <td>16.698562</td>\n      <td>159.314856</td>\n    </tr>\n    <tr>\n      <th>std</th>\n      <td>1.317814e+07</td>\n      <td>9.827422e+07</td>\n      <td>6.849855</td>\n      <td>26.222091</td>\n      <td>570.353609</td>\n      <td>2.103376e+05</td>\n      <td>63.602914</td>\n      <td>1.68321</td>\n      <td>51.068966</td>\n      <td>140.179628</td>\n    </tr>\n    <tr>\n      <th>min</th>\n      <td>1.090000e+02</td>\n      <td>2.300000e+01</td>\n      <td>18.920990</td>\n      <td>-159.714900</td>\n      <td>0.000000</td>\n      <td>1.000000e+00</td>\n      <td>0.000000</td>\n      <td>0.01000</td>\n      <td>1.000000</td>\n      <td>0.000000</td>\n    </tr>\n    <tr>\n      <th>25%</th>\n      <td>1.515890e+07</td>\n      <td>1.399275e+07</td>\n      <td>32.761783</td>\n      <td>-118.598115</td>\n      <td>75.000000</td>\n      <td>1.000000e+00</td>\n      <td>1.000000</td>\n      <td>0.23000</td>\n      <td>1.000000</td>\n      <td>0.000000</td>\n    </tr>\n    <tr>\n      <th>50%</th>\n      <td>2.590916e+07</td>\n      <td>5.138266e+07</td>\n      <td>37.261125</td>\n      <td>-97.817200</td>\n      <td>121.000000</td>\n      <td>2.000000e+00</td>\n      <td>8.000000</td>\n      <td>0.81000</td>\n      <td>2.000000</td>\n      <td>140.000000</td>\n    </tr>\n    <tr>\n      <th>75%</th>\n      <td>3.772624e+07</td>\n      <td>1.497179e+08</td>\n      <td>40.724038</td>\n      <td>-76.919322</td>\n      <td>201.000000</td>\n      <td>7.000000e+00</td>\n      <td>39.000000</td>\n      <td>2.06000</td>\n      <td>6.000000</td>\n      <td>311.000000</td>\n    </tr>\n    <tr>\n      <th>max</th>\n      <td>4.556085e+07</td>\n      <td>3.679176e+08</td>\n      <td>47.734620</td>\n      <td>-70.995950</td>\n      <td>24999.000000</td>\n      <td>1.000000e+08</td>\n      <td>966.000000</td>\n      <td>44.06000</td>\n      <td>593.000000</td>\n      <td>365.000000</td>\n    </tr>\n  </tbody>\n</table>\n</div>"
     },
     "metadata": {},
     "execution_count": 6
    }
   ],
   "source": [
    "# df.describe()"
   ]
  },
  {
   "cell_type": "code",
   "execution_count": 7,
   "metadata": {},
   "outputs": [
    {
     "output_type": "execute_result",
     "data": {
      "text/plain": [
       "id                                     0\n",
       "name                                  28\n",
       "host_id                                0\n",
       "host_name                             33\n",
       "neighbourhood_group               115845\n",
       "neighbourhood                          0\n",
       "latitude                               0\n",
       "longitude                              0\n",
       "room_type                              0\n",
       "price                                  0\n",
       "minimum_nights                         0\n",
       "number_of_reviews                      0\n",
       "last_review                        48602\n",
       "reviews_per_month                  48602\n",
       "calculated_host_listings_count         0\n",
       "availability_365                       0\n",
       "city                                   0\n",
       "dtype: int64"
      ]
     },
     "metadata": {},
     "execution_count": 7
    }
   ],
   "source": [
    "# df.isnull().sum()"
   ]
  },
  {
   "cell_type": "code",
   "execution_count": 8,
   "metadata": {},
   "outputs": [
    {
     "output_type": "execute_result",
     "data": {
      "text/plain": [
       "100     5826\n",
       "150     5722\n",
       "75      4710\n",
       "50      4401\n",
       "80      3908\n",
       "        ... \n",
       "1236       1\n",
       "1364       1\n",
       "1620       1\n",
       "1876       1\n",
       "2047       1\n",
       "Name: price, Length: 1975, dtype: int64"
      ]
     },
     "metadata": {},
     "execution_count": 8
    }
   ],
   "source": [
    "# df['price'].value_counts()"
   ]
  },
  {
   "cell_type": "code",
   "execution_count": 9,
   "metadata": {},
   "outputs": [
    {
     "output_type": "execute_result",
     "data": {
      "text/plain": [
       "Entire home/apt    154173\n",
       "Private room        65887\n",
       "Shared room          4029\n",
       "Hotel room           1941\n",
       "Name: room_type, dtype: int64"
      ]
     },
     "metadata": {},
     "execution_count": 9
    }
   ],
   "source": [
    "# df['room_type'].value_counts()"
   ]
  },
  {
   "cell_type": "code",
   "execution_count": 10,
   "metadata": {},
   "outputs": [],
   "source": [
    "def wrangle(X):\n",
    "    \"\"\" wrangle function for data\"\"\"\n",
    "\n",
    "    X = X.copy()\n",
    "    # if lat and long need to be formatted\n",
    "    #X['latitude'] = X['latitude'].replace(-2e08, 0)\n",
    "    # #X['longitude'] = X['longitude'].replace(-2e08, 0)\n",
    "\n",
    "    # columns to drop \n",
    "    dropped = ['host_id', 'host_name', 'id', 'neighbourhood_group', 'neighbourhood', \n",
    "                'number_of_reviews', 'last_review', 'reviews_per_month',\n",
    "                'calculated_host_listings_count', 'availability_365']\n",
    "    X = X.drop(columns=dropped)\n",
    "\n",
    "    # wrangle and return\n",
    "    return X"
   ]
  },
  {
   "cell_type": "code",
   "execution_count": 34,
   "metadata": {},
   "outputs": [
    {
     "output_type": "execute_result",
     "data": {
      "text/plain": [
       "                                                name  latitude  longitude  \\\n",
       "0    Charming Victorian home - twin beds + breakfast  35.65146  -82.62792   \n",
       "1                                   French Chic Loft  35.59779  -82.55540   \n",
       "2  Walk to stores/parks/downtown. Fenced yard/Pet...  35.60670  -82.55563   \n",
       "3                 Cottage! BonPaul + Sharky's Hostel  35.57864  -82.59578   \n",
       "4                                Historic Grove Park  35.61442  -82.54127   \n",
       "\n",
       "         room_type  price  minimum_nights       city  \n",
       "0     Private room     60               1  Asheville  \n",
       "1  Entire home/apt    470               1  Asheville  \n",
       "2  Entire home/apt     75              30  Asheville  \n",
       "3  Entire home/apt     90               1  Asheville  \n",
       "4     Private room    125              30  Asheville  "
      ],
      "text/html": "<div>\n<style scoped>\n    .dataframe tbody tr th:only-of-type {\n        vertical-align: middle;\n    }\n\n    .dataframe tbody tr th {\n        vertical-align: top;\n    }\n\n    .dataframe thead th {\n        text-align: right;\n    }\n</style>\n<table border=\"1\" class=\"dataframe\">\n  <thead>\n    <tr style=\"text-align: right;\">\n      <th></th>\n      <th>name</th>\n      <th>latitude</th>\n      <th>longitude</th>\n      <th>room_type</th>\n      <th>price</th>\n      <th>minimum_nights</th>\n      <th>city</th>\n    </tr>\n  </thead>\n  <tbody>\n    <tr>\n      <th>0</th>\n      <td>Charming Victorian home - twin beds + breakfast</td>\n      <td>35.65146</td>\n      <td>-82.62792</td>\n      <td>Private room</td>\n      <td>60</td>\n      <td>1</td>\n      <td>Asheville</td>\n    </tr>\n    <tr>\n      <th>1</th>\n      <td>French Chic Loft</td>\n      <td>35.59779</td>\n      <td>-82.55540</td>\n      <td>Entire home/apt</td>\n      <td>470</td>\n      <td>1</td>\n      <td>Asheville</td>\n    </tr>\n    <tr>\n      <th>2</th>\n      <td>Walk to stores/parks/downtown. Fenced yard/Pet...</td>\n      <td>35.60670</td>\n      <td>-82.55563</td>\n      <td>Entire home/apt</td>\n      <td>75</td>\n      <td>30</td>\n      <td>Asheville</td>\n    </tr>\n    <tr>\n      <th>3</th>\n      <td>Cottage! BonPaul + Sharky's Hostel</td>\n      <td>35.57864</td>\n      <td>-82.59578</td>\n      <td>Entire home/apt</td>\n      <td>90</td>\n      <td>1</td>\n      <td>Asheville</td>\n    </tr>\n    <tr>\n      <th>4</th>\n      <td>Historic Grove Park</td>\n      <td>35.61442</td>\n      <td>-82.54127</td>\n      <td>Private room</td>\n      <td>125</td>\n      <td>30</td>\n      <td>Asheville</td>\n    </tr>\n  </tbody>\n</table>\n</div>"
     },
     "metadata": {},
     "execution_count": 34
    }
   ],
   "source": [
    "df = wrangle(df)\n",
    "df.head()"
   ]
  },
  {
   "cell_type": "code",
   "execution_count": 11,
   "metadata": {},
   "outputs": [],
   "source": [
    "pip install scikit-learn==0.22.2.post1\n",
    "pip install category_encoders"
   ]
  },
  {
   "cell_type": "code",
   "execution_count": 35,
   "metadata": {},
   "outputs": [
    {
     "output_type": "execute_result",
     "data": {
      "text/plain": [
       "((180824, 7), (45206, 7))"
      ]
     },
     "metadata": {},
     "execution_count": 35
    }
   ],
   "source": [
    "# create val set\n",
    "from sklearn.model_selection import train_test_split\n",
    "train, val = train_test_split(df, train_size=.8, test_size=.2, random_state=42,)\n",
    "train.shape, val.shape"
   ]
  },
  {
   "cell_type": "code",
   "execution_count": 27,
   "metadata": {},
   "outputs": [
    {
     "output_type": "stream",
     "name": "stdout",
     "text": [
      "Collecting category_encoders\n",
      "  Downloading category_encoders-2.2.2-py2.py3-none-any.whl (80 kB)\n",
      "\u001b[K     |████████████████████████████████| 80 kB 4.8 MB/s \n",
      "\u001b[?25hRequirement already satisfied: pandas>=0.21.1 in /Users/masonnystrom/opt/anaconda3/envs/U4-S1-NLP/lib/python3.7/site-packages (from category_encoders) (1.0.3)\n",
      "Requirement already satisfied: numpy>=1.14.0 in /Users/masonnystrom/opt/anaconda3/envs/U4-S1-NLP/lib/python3.7/site-packages (from category_encoders) (1.18.4)\n",
      "Collecting patsy>=0.5.1\n",
      "  Downloading patsy-0.5.1-py2.py3-none-any.whl (231 kB)\n",
      "\u001b[K     |████████████████████████████████| 231 kB 22.0 MB/s \n",
      "\u001b[?25hCollecting statsmodels>=0.9.0\n",
      "  Downloading statsmodels-0.12.1-cp37-cp37m-macosx_10_13_x86_64.whl (9.6 MB)\n",
      "\u001b[K     |████████████████████████████████| 9.6 MB 22.2 MB/s \n",
      "\u001b[?25hRequirement already satisfied: scikit-learn>=0.20.0 in /Users/masonnystrom/opt/anaconda3/envs/U4-S1-NLP/lib/python3.7/site-packages (from category_encoders) (0.22.2)\n",
      "Requirement already satisfied: scipy>=1.0.0 in /Users/masonnystrom/opt/anaconda3/envs/U4-S1-NLP/lib/python3.7/site-packages (from category_encoders) (1.4.1)\n",
      "Requirement already satisfied: pytz>=2017.2 in /Users/masonnystrom/opt/anaconda3/envs/U4-S1-NLP/lib/python3.7/site-packages (from pandas>=0.21.1->category_encoders) (2020.1)\n",
      "Requirement already satisfied: python-dateutil>=2.6.1 in /Users/masonnystrom/opt/anaconda3/envs/U4-S1-NLP/lib/python3.7/site-packages (from pandas>=0.21.1->category_encoders) (2.8.1)\n",
      "Requirement already satisfied: six in /Users/masonnystrom/opt/anaconda3/envs/U4-S1-NLP/lib/python3.7/site-packages (from patsy>=0.5.1->category_encoders) (1.14.0)\n",
      "Requirement already satisfied: joblib>=0.11 in /Users/masonnystrom/opt/anaconda3/envs/U4-S1-NLP/lib/python3.7/site-packages (from scikit-learn>=0.20.0->category_encoders) (0.14.1)\n",
      "Installing collected packages: patsy, statsmodels, category-encoders\n",
      "Successfully installed category-encoders-2.2.2 patsy-0.5.1 statsmodels-0.12.1\n",
      "Note: you may need to restart the kernel to use updated packages.\n"
     ]
    }
   ],
   "source": [
    "import category_encoders as ce \n",
    "from sklearn.metrics import r2_score, mean_absolute_error, accuracy_score\n",
    "from sklearn.impute import SimpleImputer\n",
    "from sklearn.ensemble import RandomForestRegressor\n",
    "from sklearn.pipeline import make_pipeline\n",
    "from sklearn.preprocessing import StandardScaler\n",
    "from sklearn.linear_model import LogisticRegression"
   ]
  },
  {
   "cell_type": "code",
   "execution_count": 36,
   "metadata": {},
   "outputs": [],
   "source": [
    "# x matrices and y vectors\n",
    "target = 'price'\n",
    "\n",
    "\n",
    "X_train = df.drop(columns = [target, 'name', 'city', \"room_type\"])\n",
    "y_train = df[target]\n",
    "\n",
    "X_val = val.drop(columns = [target, 'name', 'city', 'room_type'])\n",
    "y_val = val[target]"
   ]
  },
  {
   "cell_type": "code",
   "execution_count": 37,
   "metadata": {},
   "outputs": [
    {
     "output_type": "execute_result",
     "data": {
      "text/plain": [
       "Index(['latitude', 'longitude', 'minimum_nights'], dtype='object')"
      ]
     },
     "metadata": {},
     "execution_count": 37
    }
   ],
   "source": [
    "# X_train.columns"
   ]
  },
  {
   "cell_type": "code",
   "execution_count": 38,
   "metadata": {},
   "outputs": [
    {
     "output_type": "execute_result",
     "data": {
      "text/plain": [
       "Pipeline(memory=None,\n",
       "         steps=[('targetencoder',\n",
       "                 TargetEncoder(cols=[], drop_invariant=False,\n",
       "                               handle_missing='value', handle_unknown='value',\n",
       "                               min_samples_leaf=1, return_df=True,\n",
       "                               smoothing=1.0, verbose=0)),\n",
       "                ('simpleimputer',\n",
       "                 SimpleImputer(add_indicator=False, copy=True, fill_value=None,\n",
       "                               missing_values=nan, strategy='median',\n",
       "                               verbose=0)),\n",
       "                ('randomforestregressor',\n",
       "                 Rando...stRegressor(bootstrap=True, ccp_alpha=0.0,\n",
       "                                       criterion='mse', max_depth=None,\n",
       "                                       max_features='auto', max_leaf_nodes=None,\n",
       "                                       max_samples=None,\n",
       "                                       min_impurity_decrease=0.0,\n",
       "                                       min_impurity_split=None,\n",
       "                                       min_samples_leaf=1, min_samples_split=2,\n",
       "                                       min_weight_fraction_leaf=0.0,\n",
       "                                       n_estimators=100, n_jobs=-1,\n",
       "                                       oob_score=False, random_state=42,\n",
       "                                       verbose=0, warm_start=False))],\n",
       "         verbose=False)"
      ]
     },
     "metadata": {},
     "execution_count": 38
    }
   ],
   "source": [
    "airbnb_model = make_pipeline(\n",
    "    ce.TargetEncoder(min_samples_leaf=1, smoothing=1), \n",
    "    SimpleImputer(strategy='median'), \n",
    "    RandomForestRegressor(n_estimators=100, n_jobs=-1, random_state=42)\n",
    ")\n",
    "airbnb_model.fit(X_train, y_train)"
   ]
  },
  {
   "cell_type": "code",
   "execution_count": 40,
   "metadata": {},
   "outputs": [
    {
     "output_type": "stream",
     "name": "stdout",
     "text": [
      "Train Accuracy: 0.8751703905128797\n",
      "Val Accuracy: 0.8786331815096016\n"
     ]
    }
   ],
   "source": [
    "print('Train Accuracy:', model.score(X_train, y_train))\n",
    "print('Val Accuracy:', model.score(X_val, y_val))"
   ]
  },
  {
   "cell_type": "code",
   "execution_count": 41,
   "metadata": {},
   "outputs": [
    {
     "output_type": "stream",
     "name": "stdout",
     "text": [
      "R2 Score: 0.8786331815096016\nMSE: 44185.9910736412\nMAE: 55.109132295154836\n"
     ]
    }
   ],
   "source": [
    "from sklearn.metrics import mean_squared_error, r2_score, mean_absolute_error\n",
    "prediction = airbnb_model.predict(X_val)\n",
    "print(\"R2 Score:\", r2_score(y_val, prediction))\n",
    "print(\"MSE:\", mean_squared_error(y_val, prediction))\n",
    "print(\"MAE:\", mean_absolute_error(y_val, prediction))"
   ]
  },
  {
   "cell_type": "code",
   "execution_count": 42,
   "metadata": {},
   "outputs": [
    {
     "output_type": "execute_result",
     "data": {
      "text/plain": [
       "Index(['latitude', 'longitude', 'minimum_nights'], dtype='object')"
      ]
     },
     "metadata": {},
     "execution_count": 42
    }
   ],
   "source": [
    "# X_val.columns"
   ]
  },
  {
   "cell_type": "code",
   "execution_count": null,
   "metadata": {},
   "outputs": [],
   "source": [
    "#compress and pickle model \n",
    "import pickle\n",
    "import joblib\n",
    "# filename = 'airbnb_model1.pckl'\n",
    "# pickle.dump(airbnb_model, open(filename, 'wb'))\n",
    "\n",
    "joblib.dump(airbnb_model, 'airbnb_model1.pkl',compress=7)\n",
    "\n",
    "# loading a model \n",
    "# with open(airbnb-model, 'rb') as h:\n",
    "#     loaded_model = pickle.load(h) "
   ]
  }
 ]
}