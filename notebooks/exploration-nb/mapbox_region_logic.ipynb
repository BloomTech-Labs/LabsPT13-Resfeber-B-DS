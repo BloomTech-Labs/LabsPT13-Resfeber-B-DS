{
 "cells": [
  {
   "cell_type": "markdown",
   "metadata": {},
   "source": [
    "# Region Logic\n",
    "The goal of this nb is to figure out some logic for handling regions.\n",
    "* Figure out how routes are made and returned by mapbox\n",
    "* Figure out how to break a route down into it's states and mileage\n",
    "* create region constants by making a list of the state names (or coords, or which ever works best with mapbox)"
   ]
  },
  {
   "cell_type": "code",
   "execution_count": 1,
   "metadata": {},
   "outputs": [
    {
     "data": {
      "text/plain": [
       "<Response [200]>"
      ]
     },
     "execution_count": 1,
     "metadata": {},
     "output_type": "execute_result"
    }
   ],
   "source": [
    "import requests\n",
    "from dotenv import load_dotenv\n",
    "load_dotenv()\n",
    "import os\n",
    "\n",
    "token = os.environ.get('MAPBOX_TOKEN')\n",
    "\n",
    "url = 'https://api.mapbox.com/directions/v5/mapbox/driving?access_token='\n",
    "url += token\n",
    "body = {'coordinates': '-122.3321,47.6062;-122.4443,47.2529;-122.6750,45.5051'}\n",
    "#       'steps': 'true'}\n",
    "#       'annotations': 'distance'}\n",
    "\n",
    "resp = requests.post(url, data = body)\n",
    "resp"
   ]
  },
  {
   "cell_type": "code",
   "execution_count": 2,
   "metadata": {},
   "outputs": [
    {
     "data": {
      "text/plain": [
       "'coordinates=-122.3321%2C47.6062%3B-122.4443%2C47.2529%3B-122.6750%2C45.5051'"
      ]
     },
     "execution_count": 2,
     "metadata": {},
     "output_type": "execute_result"
    }
   ],
   "source": [
    "resp.request.body"
   ]
  },
  {
   "cell_type": "code",
   "execution_count": 3,
   "metadata": {},
   "outputs": [
    {
     "data": {
      "text/plain": [
       "{'User-Agent': 'python-requests/2.25.0', 'Accept-Encoding': 'gzip, deflate', 'Accept': '*/*', 'Connection': 'keep-alive', 'Content-Length': '75', 'Content-Type': 'application/x-www-form-urlencoded'}"
      ]
     },
     "execution_count": 3,
     "metadata": {},
     "output_type": "execute_result"
    }
   ],
   "source": [
    "resp.request.headers"
   ]
  },
  {
   "cell_type": "code",
   "execution_count": 4,
   "metadata": {},
   "outputs": [
    {
     "data": {
      "text/plain": [
       "{'routes': [{'weight_name': 'auto',\n",
       "   'weight': 12313.017,\n",
       "   'duration': 11837.105,\n",
       "   'distance': 297008.094,\n",
       "   'legs': [{'steps': [],\n",
       "     'admins': [{'iso_3166_1_alpha3': 'USA', 'iso_3166_1': 'US'}],\n",
       "     'duration': 2364.449,\n",
       "     'distance': 54183.391,\n",
       "     'weight': 2789.213,\n",
       "     'summary': 'I 5, I 5 South'},\n",
       "    {'steps': [],\n",
       "     'admins': [{'iso_3166_1_alpha3': 'USA', 'iso_3166_1': 'US'},\n",
       "      {'iso_3166_1_alpha3': 'USA', 'iso_3166_1': 'US'}],\n",
       "     'duration': 9472.656,\n",
       "     'distance': 242824.703,\n",
       "     'weight': 9523.804,\n",
       "     'summary': 'I 5 South, I 405 South'}],\n",
       "   'geometry': 'mbqaHz~siVMLx@jCmCdC{D_Mf{@u|@lAa@|HgAfDIlt@{AfjXi~Itrc@rnIpkDbcCha@jnOjIzXf@`Gq[pUgXfKcYpEaR~DqAPmPxBzCpl@WDcKtAyCgl@tIwFlfBiZdg@nfAt{L|wF~pH|`P~dPpi`Azek@drSvrJq}EhsN|M`dQ{sRl_o@xnFroKw`EvfWh{AhvXubJzkXwdYd`ZyaIhib@fkCzQcDn_Alq@lwKoOuAvUsAfBMaKZjPhGmq@}sDmk@iU|A_R~F'}],\n",
       " 'waypoints': [{'distance': 12.556,\n",
       "   'name': '',\n",
       "   'location': [-122.332143, 47.606309]},\n",
       "  {'distance': 12.64,\n",
       "   'name': 'Tacoma Avenue South',\n",
       "   'location': [-122.444465, 47.252883]},\n",
       "  {'distance': 2.948, 'name': '', 'location': [-122.674964, 45.505108]}],\n",
       " 'code': 'Ok',\n",
       " 'uuid': 'Q9ivS2tJfmmwY9pSBcYItVDV7jZFvSRpJ5OzJLOy-Dkcf0VCQOqBrg=='}"
      ]
     },
     "execution_count": 4,
     "metadata": {},
     "output_type": "execute_result"
    }
   ],
   "source": [
    "resp.json()"
   ]
  },
  {
   "cell_type": "code",
   "execution_count": 5,
   "metadata": {},
   "outputs": [
    {
     "data": {
      "text/plain": [
       "<Response [200]>"
      ]
     },
     "execution_count": 5,
     "metadata": {},
     "output_type": "execute_result"
    }
   ],
   "source": [
    "# Okay I know how to get routes, now lets see if I can decode coords to states\n",
    "\n",
    "url2 = 'https://api.mapbox.com/geocoding/v5/mapbox.places/-122.3321,47.6062.json?access_token='\n",
    "url2 += token\n",
    "resp2 = requests.get(url2)\n",
    "resp2"
   ]
  },
  {
   "cell_type": "code",
   "execution_count": 6,
   "metadata": {},
   "outputs": [
    {
     "data": {
      "text/plain": [
       "{'type': 'FeatureCollection',\n",
       " 'query': [-122.3321, 47.6062],\n",
       " 'features': [{'id': 'poi.137439024267',\n",
       "   'type': 'Feature',\n",
       "   'place_type': ['poi'],\n",
       "   'relevance': 1,\n",
       "   'properties': {'foursquare': '552e1a97498eec260fd37d3f',\n",
       "    'landmark': True,\n",
       "    'address': '2738 Alki Ave SW',\n",
       "    'category': 'beauty, hair, salon, barber, hairdresser'},\n",
       "   'text': \"Tiffany's Hair Design\",\n",
       "   'place_name': \"Tiffany's Hair Design, 2738 Alki Ave SW, Seattle, Washington 98164, United States\",\n",
       "   'center': [-122.33207, 47.60621],\n",
       "   'geometry': {'coordinates': [-122.33207, 47.60621], 'type': 'Point'},\n",
       "   'context': [{'id': 'neighborhood.2101930', 'text': 'Downtown'},\n",
       "    {'id': 'postcode.10427398245565200', 'text': '98164'},\n",
       "    {'id': 'place.11115494111229470', 'wikidata': 'Q5083', 'text': 'Seattle'},\n",
       "    {'id': 'region.9713796497246050',\n",
       "     'wikidata': 'Q1223',\n",
       "     'short_code': 'US-WA',\n",
       "     'text': 'Washington'},\n",
       "    {'id': 'country.19678805456372290',\n",
       "     'wikidata': 'Q30',\n",
       "     'short_code': 'us',\n",
       "     'text': 'United States'}]},\n",
       "  {'id': 'neighborhood.2101930',\n",
       "   'type': 'Feature',\n",
       "   'place_type': ['neighborhood'],\n",
       "   'relevance': 1,\n",
       "   'properties': {},\n",
       "   'text': 'Downtown',\n",
       "   'place_name': 'Downtown, Seattle, Washington 98164, United States',\n",
       "   'bbox': [-122.345365, 47.598534, -122.324814, 47.616158],\n",
       "   'center': [-122.3369, 47.6057],\n",
       "   'geometry': {'type': 'Point', 'coordinates': [-122.3369, 47.6057]},\n",
       "   'context': [{'id': 'postcode.10427398245565200', 'text': '98164'},\n",
       "    {'id': 'place.11115494111229470', 'wikidata': 'Q5083', 'text': 'Seattle'},\n",
       "    {'id': 'region.9713796497246050',\n",
       "     'wikidata': 'Q1223',\n",
       "     'short_code': 'US-WA',\n",
       "     'text': 'Washington'},\n",
       "    {'id': 'country.19678805456372290',\n",
       "     'wikidata': 'Q30',\n",
       "     'short_code': 'us',\n",
       "     'text': 'United States'}]},\n",
       "  {'id': 'postcode.10427398245565200',\n",
       "   'type': 'Feature',\n",
       "   'place_type': ['postcode'],\n",
       "   'relevance': 1,\n",
       "   'properties': {},\n",
       "   'text': '98164',\n",
       "   'place_name': 'Seattle, Washington 98164, United States',\n",
       "   'bbox': [-122.332912483231,\n",
       "    47.6053700201473,\n",
       "    -122.331146021042,\n",
       "    47.6065529796772],\n",
       "   'center': [-122.332029, 47.605961],\n",
       "   'geometry': {'type': 'Point', 'coordinates': [-122.332029, 47.605961]},\n",
       "   'context': [{'id': 'place.11115494111229470',\n",
       "     'wikidata': 'Q5083',\n",
       "     'text': 'Seattle'},\n",
       "    {'id': 'region.9713796497246050',\n",
       "     'wikidata': 'Q1223',\n",
       "     'short_code': 'US-WA',\n",
       "     'text': 'Washington'},\n",
       "    {'id': 'country.19678805456372290',\n",
       "     'wikidata': 'Q30',\n",
       "     'short_code': 'us',\n",
       "     'text': 'United States'}]},\n",
       "  {'id': 'place.11115494111229470',\n",
       "   'type': 'Feature',\n",
       "   'place_type': ['place'],\n",
       "   'relevance': 1,\n",
       "   'properties': {'wikidata': 'Q5083'},\n",
       "   'text': 'Seattle',\n",
       "   'place_name': 'Seattle, Washington, United States',\n",
       "   'bbox': [-122.441233019046,\n",
       "    47.3403950185547,\n",
       "    -122.216605992108,\n",
       "    47.7779392908564],\n",
       "   'center': [-122.3301, 47.6038],\n",
       "   'geometry': {'type': 'Point', 'coordinates': [-122.3301, 47.6038]},\n",
       "   'context': [{'id': 'region.9713796497246050',\n",
       "     'wikidata': 'Q1223',\n",
       "     'short_code': 'US-WA',\n",
       "     'text': 'Washington'},\n",
       "    {'id': 'country.19678805456372290',\n",
       "     'wikidata': 'Q30',\n",
       "     'short_code': 'us',\n",
       "     'text': 'United States'}]},\n",
       "  {'id': 'region.9713796497246050',\n",
       "   'type': 'Feature',\n",
       "   'place_type': ['region'],\n",
       "   'relevance': 1,\n",
       "   'properties': {'wikidata': 'Q1223', 'short_code': 'US-WA'},\n",
       "   'text': 'Washington',\n",
       "   'place_name': 'Washington, United States',\n",
       "   'bbox': [-124.862197896945,\n",
       "    45.5435400017256,\n",
       "    -116.916070668425,\n",
       "    49.0121490866648],\n",
       "   'center': [-120.094292506456, 48.0250054263],\n",
       "   'geometry': {'type': 'Point',\n",
       "    'coordinates': [-120.094292506456, 48.0250054263]},\n",
       "   'context': [{'id': 'country.19678805456372290',\n",
       "     'wikidata': 'Q30',\n",
       "     'short_code': 'us',\n",
       "     'text': 'United States'}]},\n",
       "  {'id': 'country.19678805456372290',\n",
       "   'type': 'Feature',\n",
       "   'place_type': ['country'],\n",
       "   'relevance': 1,\n",
       "   'properties': {'wikidata': 'Q30', 'short_code': 'us'},\n",
       "   'text': 'United States',\n",
       "   'place_name': 'United States',\n",
       "   'bbox': [-179.9, 18.8163608007951, -66.8847646185949, 71.4202919997506],\n",
       "   'center': [-97.9222112121185, 39.3812661305678],\n",
       "   'geometry': {'type': 'Point',\n",
       "    'coordinates': [-97.9222112121185, 39.3812661305678]}}],\n",
       " 'attribution': 'NOTICE: © 2020 Mapbox and its suppliers. All rights reserved. Use of this data is subject to the Mapbox Terms of Service (https://www.mapbox.com/about/maps/). This response and the information it contains may not be retained. POI(s) provided by Foursquare.'}"
      ]
     },
     "execution_count": 6,
     "metadata": {},
     "output_type": "execute_result"
    }
   ],
   "source": [
    "resp2.json()"
   ]
  },
  {
   "cell_type": "code",
   "execution_count": 7,
   "metadata": {},
   "outputs": [
    {
     "data": {
      "text/plain": [
       "'Washington'"
      ]
     },
     "execution_count": 7,
     "metadata": {},
     "output_type": "execute_result"
    }
   ],
   "source": [
    "resp2.json()['features'][4]['text']"
   ]
  },
  {
   "cell_type": "markdown",
   "metadata": {},
   "source": [
    "## Summary\n",
    "* coordinates need to be a string formated as '_long,lat;long,lat_'. \n",
    "* annotations - distance is overkill for now, the functional distance between legs is packed into the 'legs' key\n",
    "* step.maneuver.location is likely the best way for me to find when travelers change regions\n",
    "* I can reverse look up a geocode using the mapbox.places endpoint\n",
    "* I might need to loop through the features to find the 'region' feature"
   ]
  },
  {
   "cell_type": "markdown",
   "metadata": {},
   "source": [
    "## mvp route -> regions workflow\n",
    "A basic workflow for going from a route, to measuring the travel distance in each region. No working predition models, just proof of workflow."
   ]
  },
  {
   "cell_type": "code",
   "execution_count": 8,
   "metadata": {},
   "outputs": [],
   "source": [
    "# First lets define our PADD regions\n",
    "padds = {'1a': \n",
    "             ['Maine', 'New Hampshire', 'Vermont', 'Massachusetts', \n",
    "             'Connecticut', 'Rhode Island'],\n",
    "         '1b':\n",
    "             ['New York', 'New Jersey', 'Pennsylvania', 'Deleware', 'Maryland'],\n",
    "         '1c':\n",
    "             ['West Virginia', 'Virginia', 'North Carolina', 'South Carolina',\n",
    "             'Georgia', 'Florida'],\n",
    "         '2':\n",
    "             ['North Dakota', 'South Dakota', 'Nebraska', 'Kansas', 'Oklahoma',\n",
    "             'Minnesota', 'Iowa', 'Missouri', 'Wisconsin', 'Illinois', \n",
    "             'Tennessee', 'Kentucky', 'Indiana', 'Ohio', 'Michigan'],\n",
    "         '3':\n",
    "             ['New Mexico', 'Texas', 'Arkansas', 'Louisiana', 'Mississippi', \n",
    "             'Alabama'],\n",
    "         '4':\n",
    "             ['Idaho', 'Utah', 'Montana', 'Wyoming', 'Colorado'],\n",
    "         '5':\n",
    "             ['Washington', 'Oregon', 'California', 'Nevada', 'Arizona', \n",
    "             'Alaska', 'Hawaii']\n",
    "        }\n",
    "\n",
    "# And our map of models\n",
    "gas_models = {'1a': 1.00, '1b': 1.50, '1c': 2.00, '2': 2.50, '3': 3.00, '4': 3.50, '5': 4.00}"
   ]
  },
  {
   "cell_type": "code",
   "execution_count": 9,
   "metadata": {},
   "outputs": [],
   "source": [
    "# lets make a function for checking coords for their state\n",
    "def coord_to_state(coord):\n",
    "    base_url = 'https://api.mapbox.com/geocoding/v5/mapbox.places/'\n",
    "    token = os.environ.get('MAPBOX_TOKEN')\n",
    "    constructed_url = base_url + str(coord[0]) + ',' + str(coord[1]) + '.json?access_token=' + token\n",
    "    \n",
    "    # search for the region feature\n",
    "    resp = requests.get(constructed_url).json()['features']\n",
    "    \n",
    "    for feature in resp:\n",
    "        if 'region' in feature['place_type']:\n",
    "            return feature['text']\n",
    "    \n",
    "    return 'state not found'"
   ]
  },
  {
   "cell_type": "code",
   "execution_count": 10,
   "metadata": {},
   "outputs": [
    {
     "name": "stdout",
     "output_type": "stream",
     "text": [
      "Washington\n",
      "Idaho\n",
      "Nevada\n"
     ]
    }
   ],
   "source": [
    "# Testing the function works\n",
    "seattle = [-122.3321,47.6062]\n",
    "boise = [-116.2023,43.6150]\n",
    "vegas = [-115.1398, 36.1699]\n",
    "\n",
    "print(coord_to_state(seattle))\n",
    "print(coord_to_state(boise))\n",
    "print(coord_to_state(vegas))"
   ]
  },
  {
   "cell_type": "code",
   "execution_count": 11,
   "metadata": {},
   "outputs": [],
   "source": [
    "# Now lets make a function that returns a region code\n",
    "def coord_to_region(coord):\n",
    "    #TODO consider moving padds map here vs keeping it global in our api\n",
    "    state = coord_to_state(coord)\n",
    "    for key in padds:\n",
    "        if state in padds[key]:\n",
    "            return key\n",
    "        \n",
    "    return 'Not in padds'"
   ]
  },
  {
   "cell_type": "code",
   "execution_count": 12,
   "metadata": {},
   "outputs": [
    {
     "name": "stdout",
     "output_type": "stream",
     "text": [
      "5\n",
      "4\n",
      "5\n"
     ]
    }
   ],
   "source": [
    "# Testing out the coord to region, should give 5, 4, 5.\n",
    "print(coord_to_region(seattle))\n",
    "print(coord_to_region(boise))\n",
    "print(coord_to_region(vegas))"
   ]
  },
  {
   "cell_type": "code",
   "execution_count": 13,
   "metadata": {},
   "outputs": [],
   "source": [
    "def region_gas_predictions(region, date = None):\n",
    "    # TODO this needs to be populated with region models. Dummy code for now\n",
    "    # consider keeping the models in global space to improve response time\n",
    "    \n",
    "    return gas_models[region]"
   ]
  },
  {
   "cell_type": "code",
   "execution_count": 14,
   "metadata": {},
   "outputs": [
    {
     "data": {
      "text/plain": [
       "400.0"
      ]
     },
     "execution_count": 14,
     "metadata": {},
     "output_type": "execute_result"
    }
   ],
   "source": [
    "# Should generate $400\n",
    "100 * region_gas_predictions(coord_to_region(seattle))"
   ]
  },
  {
   "cell_type": "code",
   "execution_count": 15,
   "metadata": {},
   "outputs": [
    {
     "data": {
      "text/plain": [
       "<Response [200]>"
      ]
     },
     "execution_count": 15,
     "metadata": {},
     "output_type": "execute_result"
    }
   ],
   "source": [
    "# Lets do an example route.  Seattle WA, to Boise ID, to Las Vegas NV\n",
    "route = {'coordinates': '-122.3321,47.6062;-116.2023,43.6150;-115.1398, 36.1699',\n",
    "        'steps': 'true'}\n",
    "\n",
    "trip = requests.post(url, data = route)\n",
    "trip"
   ]
  },
  {
   "cell_type": "code",
   "execution_count": 16,
   "metadata": {},
   "outputs": [
    {
     "data": {
      "text/plain": [
       "[-122.332151, 47.606318]"
      ]
     },
     "execution_count": 16,
     "metadata": {},
     "output_type": "execute_result"
    }
   ],
   "source": [
    "# I will need to iterate along each leg of the first route recommended\n",
    "# commented out because it is huge\n",
    "#trip.json()['routes'][0]['legs']\n",
    "\n",
    "# for getting the end location of a maneuvor\n",
    "trip.json()['routes'][0]['legs'][0]['steps'][0]['intersections'][-1]['location']"
   ]
  },
  {
   "cell_type": "code",
   "execution_count": 17,
   "metadata": {},
   "outputs": [
    {
     "data": {
      "text/plain": [
       "9"
      ]
     },
     "execution_count": 17,
     "metadata": {},
     "output_type": "execute_result"
    }
   ],
   "source": [
    "# for pulling the distance out of a step\n",
    "trip.json()['routes'][0]['legs'][0]['steps'][0]['distance']"
   ]
  },
  {
   "cell_type": "code",
   "execution_count": 18,
   "metadata": {},
   "outputs": [
    {
     "data": {
      "text/plain": [
       "{'distances': [805365.605, 525191.9, 488783.43799999997],\n",
       " 'regions': ['5', '4', '5']}"
      ]
     },
     "execution_count": 18,
     "metadata": {},
     "output_type": "execute_result"
    }
   ],
   "source": [
    "distance = 0\n",
    "prev_reg = 0\n",
    "cur_reg = 0\n",
    "reg_dist_map = {'distances': [], 'regions': []}\n",
    "# loop each leg\n",
    "for leg in trip.json()['routes'][0]['legs']:\n",
    "    # loop each step in the leg\n",
    "    for step in leg['steps']:\n",
    "        prev_reg = cur_reg\n",
    "        \n",
    "        # collect distance traveled\n",
    "        distance += step['distance']\n",
    "        \n",
    "        # check the end location of each step.manuever\n",
    "        # TODO is 'intersections' really the appropriate place to look?\n",
    "        # explore some more\n",
    "        coords = step['intersections'][-1]['location']\n",
    "        \n",
    "        cur_reg = coord_to_region(coords)\n",
    "#         if cur_reg == 'Not in padds':\n",
    "#             print(coord_to_state(coords))\n",
    "#             print(coords)\n",
    "        \n",
    "        if prev_reg == 0:\n",
    "            prev_reg = cur_reg\n",
    "        elif cur_reg != prev_reg:\n",
    "            reg_dist_map['distances'].append(distance)\n",
    "            distance = 0\n",
    "            reg_dist_map['regions'].append(prev_reg)\n",
    "\n",
    "reg_dist_map['distances'].append(distance)\n",
    "reg_dist_map['regions'].append(prev_reg)\n",
    "        \n",
    "    \n",
    "# multiple the mileage by the region rate\n",
    "reg_dist_map"
   ]
  },
  {
   "cell_type": "code",
   "execution_count": 19,
   "metadata": {},
   "outputs": [
    {
     "data": {
      "text/plain": [
       "1819340.875"
      ]
     },
     "execution_count": 19,
     "metadata": {},
     "output_type": "execute_result"
    }
   ],
   "source": [
    "trip.json()['routes'][0]['distance']"
   ]
  },
  {
   "cell_type": "code",
   "execution_count": 20,
   "metadata": {},
   "outputs": [
    {
     "data": {
      "text/plain": [
       "1819340.943"
      ]
     },
     "execution_count": 20,
     "metadata": {},
     "output_type": "execute_result"
    }
   ],
   "source": [
    "# should be comparable\n",
    "sum(reg_dist_map['distances'])"
   ]
  },
  {
   "cell_type": "code",
   "execution_count": 21,
   "metadata": {},
   "outputs": [
    {
     "data": {
      "text/plain": [
       "161.4360480119986"
      ]
     },
     "execution_count": 21,
     "metadata": {},
     "output_type": "execute_result"
    }
   ],
   "source": [
    "#Then I can make some assumptions and calculate cost by region!\n",
    "# I should get approximately $161.436055202\n",
    "\n",
    "mpg = 27\n",
    "meter_to_mile = 0.000621371\n",
    "total = 0\n",
    "\n",
    "for i, distance in enumerate(reg_dist_map['distances']):\n",
    "    \n",
    "    total += ((distance * meter_to_mile) / mpg) * region_gas_predictions(reg_dist_map['regions'][i])\n",
    "    \n",
    "total"
   ]
  },
  {
   "cell_type": "markdown",
   "metadata": {},
   "source": [
    "# Conclusion\n",
    "For a proof of workflow this is good. Outstanding things to make this a perfect bundle to deploy on the api.\n",
    "* Functionalize the last few cells\n",
    "* either pickle your gas prediction models\n",
    "* or make end points to calculate your models that can be run on a schedule\n",
    "* connect the models to the region logic"
   ]
  }
 ],
 "metadata": {
  "kernelspec": {
   "display_name": "resfeber",
   "language": "python",
   "name": "resfeber"
  },
  "language_info": {
   "codemirror_mode": {
    "name": "ipython",
    "version": 3
   },
   "file_extension": ".py",
   "mimetype": "text/x-python",
   "name": "python",
   "nbconvert_exporter": "python",
   "pygments_lexer": "ipython3",
   "version": "3.9.0"
  }
 },
 "nbformat": 4,
 "nbformat_minor": 4
}
